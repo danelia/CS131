{
 "cells": [
  {
   "cell_type": "code",
   "execution_count": 6,
   "metadata": {
    "collapsed": true
   },
   "outputs": [],
   "source": [
    "from PIL import Image"
   ]
  },
  {
   "cell_type": "code",
   "execution_count": 7,
   "metadata": {
    "collapsed": true
   },
   "outputs": [],
   "source": [
    "def to_bin(msg):\n",
    "    return ''.join(format(ord(c), \"08b\") for c in msg) + \"10\"\n",
    "\n",
    "def to_ascii(msg):\n",
    "    return ''.join(chr(int(msg[i:i+8], 2)) for i in range(0, len(msg), 8))"
   ]
  },
  {
   "cell_type": "code",
   "execution_count": 8,
   "metadata": {
    "collapsed": true
   },
   "outputs": [],
   "source": [
    "def encode_image(msg, , img_loc, output_loc=\"encoded_image.png\"):\n",
    "    try:\n",
    "        img = Image.open(img_loc)\n",
    "    except:\n",
    "        print(\"Wrong file name or directory!\")\n",
    "        return False\n",
    "    \n",
    "    if img.mode != 'RGB':\n",
    "        print(\"image mode needs to be RGB\")\n",
    "        return False\n",
    "    \n",
    "    msg_b = to_bin(msg)\n",
    "    \n",
    "    encoded = img.copy()\n",
    "    width, height = img.size\n",
    "    for row in range(height):\n",
    "        for col in range(width):\n",
    "            if len(msg_b) is 0:\n",
    "                encoded.save(\"encoded_image.png\")\n",
    "                return encoded\n",
    "            \n",
    "            r, g, b = img.getpixel((col, row))\n",
    "            r = int(format(r, \"08b\")[:-2] + msg_b[:2], 2)\n",
    "            msg_b = msg_b[2:]\n",
    "            encoded.putpixel((col, row), (r, g , b))\n",
    "    \n",
    "    # we will almost never get to this line,\n",
    "    # but its here just to be safe\n",
    "    encoded.save(output_loc)\n",
    "    return encoded"
   ]
  },
  {
   "cell_type": "code",
   "execution_count": 9,
   "metadata": {
    "collapsed": true
   },
   "outputs": [],
   "source": [
    "def decode_image(img_loc=\"encoded_image.png\"):\n",
    "    try:\n",
    "        img = Image.open(img_loc)\n",
    "    except:\n",
    "        print(\"Wrong file name or directory!\")\n",
    "        return False\n",
    "    \n",
    "    width, height = img.size\n",
    "    msg = \"\"\n",
    "    index = 0\n",
    "    for row in range(height):\n",
    "        for col in range(width):\n",
    "            try:\n",
    "                r, g, b = img.getpixel((col, row))\n",
    "            except ValueError:\n",
    "                r, g, b, a = img.getpixel((col, row))\n",
    "            \n",
    "            last_two = format(r, \"08b\")[-2:]\n",
    "            if index % 8 is 0 and last_two[0] is '1':\n",
    "                return to_ascii(msg)\n",
    "            msg += last_two\n",
    "            index += 2\n",
    "    \n",
    "    # we will almost never get to this line,\n",
    "    # but its here just to be safe\n",
    "    return to_ascii(msg)"
   ]
  }
 ],
 "metadata": {
  "kernelspec": {
   "display_name": "Python 3",
   "language": "python",
   "name": "python3"
  },
  "language_info": {
   "codemirror_mode": {
    "name": "ipython",
    "version": 3
   },
   "file_extension": ".py",
   "mimetype": "text/x-python",
   "name": "python",
   "nbconvert_exporter": "python",
   "pygments_lexer": "ipython3",
   "version": "3.6.5"
  }
 },
 "nbformat": 4,
 "nbformat_minor": 2
}
